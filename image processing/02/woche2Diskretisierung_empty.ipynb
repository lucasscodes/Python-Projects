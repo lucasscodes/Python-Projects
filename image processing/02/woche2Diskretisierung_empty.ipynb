{
 "cells": [
  {
   "cell_type": "markdown",
   "metadata": {
    "id": "qNoV9Dne5zug"
   },
   "source": [
    "Im Rahmen dieser Aufgabe soll eine Bildzeile auf Basis einer sin-Funktion erstellt werden. Dazu soll die sin-Funktion diskretisiert werden."
   ]
  },
  {
   "cell_type": "markdown",
   "metadata": {
    "id": "idALT7S63bwd"
   },
   "source": [
    "Gegeben sei die Funktion `f`.\n",
    "\n"
   ]
  },
  {
   "cell_type": "code",
   "execution_count": 2,
   "metadata": {
    "id": "UECG8A2m20u3"
   },
   "outputs": [],
   "source": [
    "import math\n",
    "\n",
    "def f(x):\n",
    "  return math.sin(x)*128"
   ]
  },
  {
   "cell_type": "markdown",
   "metadata": {
    "id": "IlRKYOBB3fnT"
   },
   "source": [
    "Erzeugt an 11 Stellen gleichmäßig Abtastpunkte (x-Werte der Funktion) im Bereich von -1 bis +1.\n",
    "\n"
   ]
  },
  {
   "cell_type": "code",
   "execution_count": 6,
   "metadata": {
    "id": "Od0l03Ti3Xqs"
   },
   "outputs": [
    {
     "name": "stdout",
     "output_type": "stream",
     "text": [
      "[-1.  -0.8 -0.6 -0.4 -0.2  0.   0.2  0.4  0.6  0.8  1. ]\n"
     ]
    }
   ],
   "source": [
    "#l = [-1,-.8,]\n",
    "import numpy as np\n",
    "l = list(range(-1*5,1*5+1,1))\n",
    "print(np.array(l)/5)\n",
    "\n",
    "#print(np.arange(-1,1.1,.2))"
   ]
  },
  {
   "cell_type": "markdown",
   "metadata": {
    "id": "O1B-klhi5XeK"
   },
   "source": [
    "Nehmt eure Abtastpunkte und tastet die Funktion an diesen Stellen ab."
   ]
  },
  {
   "cell_type": "code",
   "execution_count": 7,
   "metadata": {
    "id": "hUPwHfjL4r2L"
   },
   "outputs": [
    {
     "name": "stdout",
     "output_type": "stream",
     "text": [
      "122.74230715688172\n",
      "96.87071939941481\n",
      "-18.063361031663003\n",
      "-116.39007063368726\n",
      "-107.70828605541075\n",
      "0.0\n",
      "107.70828605541075\n",
      "116.39007063368726\n",
      "18.063361031663003\n",
      "-96.87071939941481\n",
      "-122.74230715688172\n"
     ]
    }
   ],
   "source": [
    "for x in l:\n",
    "    print(f(x))"
   ]
  },
  {
   "cell_type": "markdown",
   "metadata": {
    "id": "rVXtMPAE5utR"
   },
   "source": [
    "Quantisiert nun die Abtastpunkte."
   ]
  },
  {
   "cell_type": "code",
   "execution_count": 5,
   "metadata": {
    "id": "vr4qOIMT5kEm"
   },
   "outputs": [
    {
     "name": "stdout",
     "output_type": "stream",
     "text": [
      "122\n",
      "96\n",
      "-18\n",
      "-116\n",
      "-107\n",
      "0\n",
      "107\n",
      "116\n",
      "18\n",
      "-96\n",
      "-122\n"
     ]
    }
   ],
   "source": [
    "for x in l:\n",
    "    print(int(f(x)))"
   ]
  },
  {
   "cell_type": "code",
   "execution_count": null,
   "metadata": {
    "id": "jrgdyXt76GBt"
   },
   "outputs": [],
   "source": []
  }
 ],
 "metadata": {
  "colab": {
   "name": "woche2Diskretisierung_empty.ipynb",
   "provenance": []
  },
  "kernelspec": {
   "display_name": "Python 3",
   "language": "python",
   "name": "python3"
  },
  "language_info": {
   "codemirror_mode": {
    "name": "ipython",
    "version": 3
   },
   "file_extension": ".py",
   "mimetype": "text/x-python",
   "name": "python",
   "nbconvert_exporter": "python",
   "pygments_lexer": "ipython3",
   "version": "3.7.4"
  }
 },
 "nbformat": 4,
 "nbformat_minor": 1
}
