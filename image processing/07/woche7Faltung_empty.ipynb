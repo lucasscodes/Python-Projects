{
 "cells": [
  {
   "cell_type": "markdown",
   "metadata": {
    "id": "hM708m8o7_Pq"
   },
   "source": [
    "Diese Präsenzaufgabe beschäftigt sich mit den Auswirkungen der Faltung verschiedener Kernels mit einem künstlichen Bild `I`. Das Bild `I` besteht aus 10x10 Pixeln, wobei ein inneres Quadrat von 4x4 Pixeln weiß (1) und der Rest schwarz (0) ist."
   ]
  },
  {
   "cell_type": "code",
   "execution_count": 1,
   "metadata": {
    "colab": {
     "base_uri": "https://localhost:8080/",
     "height": 283
    },
    "id": "xDLyArB-DCiI",
    "outputId": "4c2f2382-527e-4b7e-82ca-b59999a37fea"
   },
   "outputs": [
    {
     "data": {
      "text/plain": [
       "<matplotlib.image.AxesImage at 0x7f23e190a2b0>"
      ]
     },
     "execution_count": 1,
     "metadata": {},
     "output_type": "execute_result"
    },
    {
     "data": {
      "image/png": "[encoded data removed]",
      "text/plain": [
       "<Figure size 432x288 with 1 Axes>"
      ]
     },
     "metadata": {
      "needs_background": "light"
     },
     "output_type": "display_data"
    }
   ],
   "source": [
    "import numpy as np\n",
    "from scipy.ndimage import convolve, correlate\n",
    "import matplotlib.pyplot as plt\n",
    "\n",
    "I= np.zeros((10,10))\n",
    "I[3:-3,3:-3]=1\n",
    "\n",
    "plt.imshow(I, cmap='gray', vmin=0, vmax=1)"
   ]
  },
  {
   "cell_type": "markdown",
   "metadata": {
    "id": "9lA7orA28o7P"
   },
   "source": [
    "Normiert den Kernel `K1` und faltet das Bild `I` mit diesem. Welche Auswirkungen hat die Faltung mit `K1`?"
   ]
  },
  {
   "cell_type": "code",
   "execution_count": 4,
   "metadata": {
    "id": "wrVRUbzQF3wo"
   },
   "outputs": [
    {
     "name": "stdout",
     "output_type": "stream",
     "text": [
      "[[0.  0.2 0. ]\n",
      " [0.2 0.2 0.2]\n",
      " [0.  0.2 0. ]]\n"
     ]
    },
    {
     "data": {
      "text/plain": [
       "<matplotlib.image.AxesImage at 0x7f23e0fd4550>"
      ]
     },
     "execution_count": 4,
     "metadata": {},
     "output_type": "execute_result"
    },
    {
     "data": {
      "image/png": "[encoded data removed]",
      "text/plain": [
       "<Figure size 432x288 with 1 Axes>"
      ]
     },
     "metadata": {
      "needs_background": "light"
     },
     "output_type": "display_data"
    }
   ],
   "source": [
    "K1 = np.array([[0,1,0],\n",
    "               [1,1,1],\n",
    "               [0,1,0]])\n",
    "K1norm = K1*(1/np.sum(K1))\n",
    "print(K1norm)\n",
    "plt.imshow(convolve(I,K1norm,mode=\"constant\",cval=0.0),cmap=\"gray\",vmin=0, vmax=1)"
   ]
  },
  {
   "cell_type": "markdown",
   "metadata": {
    "id": "RlstP_5n8-za"
   },
   "source": [
    "Normiert den Kernel `K2` und faltet das Bild `I` mit diesem. Welche Auswirkungen hat die Faltung mit `K2` im Unterschied zu `K1`?"
   ]
  },
  {
   "cell_type": "code",
   "execution_count": 5,
   "metadata": {
    "id": "7D8N04wGGIrW"
   },
   "outputs": [
    {
     "name": "stdout",
     "output_type": "stream",
     "text": [
      "[[0.11111111 0.11111111 0.11111111]\n",
      " [0.11111111 0.11111111 0.11111111]\n",
      " [0.11111111 0.11111111 0.11111111]]\n"
     ]
    },
    {
     "data": {
      "text/plain": [
       "<matplotlib.image.AxesImage at 0x7f23e0fa7b80>"
      ]
     },
     "execution_count": 5,
     "metadata": {},
     "output_type": "execute_result"
    },
    {
     "data": {
      "image/png": "[encoded data removed]",
      "text/plain": [
       "<Figure size 432x288 with 1 Axes>"
      ]
     },
     "metadata": {
      "needs_background": "light"
     },
     "output_type": "display_data"
    }
   ],
   "source": [
    "K2 = np.array([[1,1,1],\n",
    "               [1,1,1],\n",
    "               [1,1,1]])\n",
    "K2norm = K2*(1/np.sum(K2))\n",
    "print(K2norm)\n",
    "plt.imshow(convolve(I,K2norm,mode=\"constant\",cval=0.0),cmap=\"gray\",vmin=0, vmax=1)\n"
   ]
  },
  {
   "cell_type": "markdown",
   "metadata": {
    "id": "Vwbzzah79IOF"
   },
   "source": [
    "Normiert den Kernel `K3` und faltet das Bild `I` mit diesem. Welche Auswirkungen hat die Faltung mit `K3`?"
   ]
  },
  {
   "cell_type": "code",
   "execution_count": 7,
   "metadata": {
    "id": "tB1VfvG-G8UT"
   },
   "outputs": [
    {
     "name": "stdout",
     "output_type": "stream",
     "text": [
      "[[0.         0.         0.        ]\n",
      " [0.33333333 0.33333333 0.33333333]\n",
      " [0.         0.         0.        ]]\n"
     ]
    },
    {
     "data": {
      "text/plain": [
       "<matplotlib.image.AxesImage at 0x7f23e0f7dc40>"
      ]
     },
     "execution_count": 7,
     "metadata": {},
     "output_type": "execute_result"
    },
    {
     "data": {
      "image/png": "[encoded data removed]",
      "text/plain": [
       "<Figure size 432x288 with 1 Axes>"
      ]
     },
     "metadata": {
      "needs_background": "light"
     },
     "output_type": "display_data"
    }
   ],
   "source": [
    "K3 = np.array([[0,0,0],\n",
    "               [1,1,1],\n",
    "               [0,0,0]])\n",
    "K3norm = K3*(1/np.sum(K3))\n",
    "print(K3norm)\n",
    "plt.imshow(convolve(I,K3norm,mode=\"constant\",cval=0.0),cmap=\"gray\",vmin=0, vmax=1)"
   ]
  },
  {
   "cell_type": "markdown",
   "metadata": {
    "id": "A7_G1vmj9Lvg"
   },
   "source": [
    "Normiert den Kernel `K4` und faltet das Bild `I` mit diesem. Welche Auswirkungen hat die Faltung mit `K4`?"
   ]
  },
  {
   "cell_type": "code",
   "execution_count": 8,
   "metadata": {
    "id": "7BjwO028ieaT"
   },
   "outputs": [
    {
     "name": "stdout",
     "output_type": "stream",
     "text": [
      "[[0.         0.33333333 0.        ]\n",
      " [0.         0.33333333 0.        ]\n",
      " [0.         0.33333333 0.        ]]\n"
     ]
    },
    {
     "data": {
      "text/plain": [
       "<matplotlib.image.AxesImage at 0x7f23e0ed29a0>"
      ]
     },
     "execution_count": 8,
     "metadata": {},
     "output_type": "execute_result"
    },
    {
     "data": {
      "image/png": "[encoded data removed]",
      "text/plain": [
       "<Figure size 432x288 with 1 Axes>"
      ]
     },
     "metadata": {
      "needs_background": "light"
     },
     "output_type": "display_data"
    }
   ],
   "source": [
    "K4 = np.array([[0,1,0],\n",
    "               [0,1,0],\n",
    "               [0,1,0]])\n",
    "K4norm = K4*(1/np.sum(K4))\n",
    "print(K4norm)\n",
    "plt.imshow(convolve(I,K4norm,mode=\"constant\",cval=0.0),cmap=\"gray\",vmin=0, vmax=1)"
   ]
  },
  {
   "cell_type": "markdown",
   "metadata": {
    "id": "B41J0QSs97yJ"
   },
   "source": [
    "Faltet das Bild `I` nun zunächst mit `K4` und dann mit `K3`. Vergleicht das Ergebnis mit den vorherigen Ergebnissen, welchem ist es ähnlich? Was bedeutet dieses Ergebnis?\n",
    "\n"
   ]
  },
  {
   "cell_type": "code",
   "execution_count": 9,
   "metadata": {
    "id": "SE5kQ79wjfc0"
   },
   "outputs": [
    {
     "data": {
      "text/plain": [
       "<matplotlib.image.AxesImage at 0x7f23e0e9de50>"
      ]
     },
     "execution_count": 9,
     "metadata": {},
     "output_type": "execute_result"
    },
    {
     "data": {
      "image/png": "[encoded data removed]",
      "text/plain": [
       "<Figure size 432x288 with 1 Axes>"
      ]
     },
     "metadata": {
      "needs_background": "light"
     },
     "output_type": "display_data"
    }
   ],
   "source": [
    "plt.imshow(convolve(convolve(I,K4norm,mode=\"constant\",cval=0.0),K3norm,mode=\"constant\",cval=0.0),cmap=\"gray\",vmin=0, vmax=1)"
   ]
  },
  {
   "cell_type": "markdown",
   "metadata": {
    "id": "u8mNQTWN-Sc4"
   },
   "source": [
    "Faltet nun zunächst `K3` mit `K4`, um dann das Ergebnis mit dem Bild zu falten. Verändert sich das Ergebnis? Warum bzw. Warum nicht?"
   ]
  },
  {
   "cell_type": "code",
   "execution_count": 10,
   "metadata": {
    "id": "WIuK2lHUkHGj"
   },
   "outputs": [
    {
     "data": {
      "text/plain": [
       "<matplotlib.image.AxesImage at 0x7f23e0e70be0>"
      ]
     },
     "execution_count": 10,
     "metadata": {},
     "output_type": "execute_result"
    },
    {
     "data": {
      "image/png": "[encoded data removed]",
      "text/plain": [
       "<Figure size 432x288 with 1 Axes>"
      ]
     },
     "metadata": {
      "needs_background": "light"
     },
     "output_type": "display_data"
    }
   ],
   "source": [
    "plt.imshow(convolve(I,convolve(K3norm,K4norm,mode=\"constant\",cval=0.0),mode=\"constant\",cval=0.0),cmap=\"gray\",vmin=0, vmax=1)"
   ]
  },
  {
   "cell_type": "markdown",
   "metadata": {
    "id": "XANdFkro9OtX"
   },
   "source": [
    "Faltet das Bild `I` mit dem Kernel `K5`. Welche Auswirkungen hat die Faltung mit `K5`? Muss `K5` normiert werden?"
   ]
  },
  {
   "cell_type": "code",
   "execution_count": 13,
   "metadata": {
    "id": "O6wEziTMHKHD",
    "scrolled": true
   },
   "outputs": [
    {
     "data": {
      "image/png": "[encoded data removed]",
      "text/plain": [
       "<Figure size 432x288 with 1 Axes>"
      ]
     },
     "metadata": {
      "needs_background": "light"
     },
     "output_type": "display_data"
    },
    {
     "name": "stderr",
     "output_type": "stream",
     "text": [
      "<ipython-input-13-e45ab24950f6>:6: RuntimeWarning: divide by zero encountered in long_scalars\n",
      "  K5norm = K5*(1/np.sum(K5)) #kann nicht jnormiert werden, da DivByZero\n",
      "<ipython-input-13-e45ab24950f6>:6: RuntimeWarning: invalid value encountered in multiply\n",
      "  K5norm = K5*(1/np.sum(K5)) #kann nicht jnormiert werden, da DivByZero\n"
     ]
    }
   ],
   "source": [
    "K5 = np.array([[0,0,0],\n",
    "               [-1,0,1],\n",
    "               [0,0,0]])\n",
    "plt.imshow(convolve(I,K5,mode=\"constant\",cval=0.0),cmap=\"gray\",vmin=-1, vmax=1)\n",
    "plt.show()\n",
    "K5norm = K5*(1/np.sum(K5)) #kann nicht jnormiert werden, da DivByZero\n",
    "#plt.imshow(convolve(I,K5norm,mode=\"constant\",cval=0.0),cmap=\"gray\",vmin=0, vmax=1)"
   ]
  },
  {
   "cell_type": "code",
   "execution_count": null,
   "metadata": {
    "id": "3pS6W9xMhZAe"
   },
   "outputs": [],
   "source": []
  }
 ],
 "metadata": {
  "colab": {
   "collapsed_sections": [],
   "name": "woche7Faltung_empty.ipynb",
   "provenance": []
  },
  "kernelspec": {
   "display_name": "Python 3",
   "language": "python",
   "name": "python3"
  },
  "language_info": {
   "codemirror_mode": {
    "name": "ipython",
    "version": 3
   },
   "file_extension": ".py",
   "mimetype": "text/x-python",
   "name": "python",
   "nbconvert_exporter": "python",
   "pygments_lexer": "ipython3",
   "version": "3.8.5"
  }
 },
 "nbformat": 4,
 "nbformat_minor": 1
}
